{
 "cells": [
  {
   "cell_type": "markdown",
   "metadata": {},
   "source": [
    "# 🎉 Attractor State With Serotonin Simulation"
   ]
  },
  {
   "cell_type": "markdown",
   "metadata": {},
   "source": [
    "---\n",
    "## 🔍 Notebook objectives\n",
    "\n",
    "This notebook contains simulation of attractor state in the ring attractor network which contains 360 excitatory RS neurons and 90 inhibitory FS interneurons for different serotonin levels."
   ]
  },
  {
   "cell_type": "markdown",
   "metadata": {},
   "source": [
    "# 🎒 Setup"
   ]
  },
  {
   "cell_type": "markdown",
   "metadata": {},
   "source": [
    "## ⬇️ Imports"
   ]
  },
  {
   "cell_type": "code",
   "execution_count": null,
   "metadata": {},
   "outputs": [],
   "source": [
    "from utils.main_simulation import network_simulation_run\n",
    "from utils.poisson_spike_train_generation import generate_spike_train\n",
    "from utils.plots import *\n",
    "\n",
    "import numpy as np\n",
    "from scipy import stats\n",
    "import yaml #reading env consts"
   ]
  },
  {
   "cell_type": "markdown",
   "metadata": {},
   "source": [
    "## 🛠️ Simulation Utils"
   ]
  },
  {
   "cell_type": "code",
   "execution_count": null,
   "metadata": {},
   "outputs": [],
   "source": [
    "#for calculating stopping time\n",
    "def calculate_instantaneous_firing_rate(firings, window_size=5000, threshold_hz = 12, burst_threshold_hz = 80):\n",
    "    num_time_points, num_of_neurons = firings.shape\n",
    "    half_window = window_size // 2\n",
    "    firing_rates = np.zeros(num_time_points)\n",
    "\n",
    "    for t in range(half_window, num_time_points - half_window, 500):\n",
    "        window_start = t - half_window\n",
    "        window_end = t + half_window\n",
    "        window_spikes = firings[window_start:window_end + 1, :]\n",
    "        total_spikes = np.sum(window_spikes, axis=0)\n",
    "        firing_rate = total_spikes * 10000 / window_size\n",
    "        if np.any(firing_rate > burst_threshold_hz):\n",
    "            return t / 10000\n",
    "        elif np.any(firing_rate > threshold_hz):\n",
    "            continue\n",
    "        else:\n",
    "            return t / 10000\n",
    "    return num_time_points / 10000"
   ]
  },
  {
   "cell_type": "code",
   "execution_count": null,
   "metadata": {},
   "outputs": [],
   "source": [
    "#RS neuron parameters\n",
    "with open('utils/RS.yaml', 'r', encoding=\"utf-8\") as f:\n",
    "    params_RS = yaml.load(f, Loader=yaml.FullLoader)\n",
    "\n",
    "#FS neuron parameters\n",
    "with open('utils/FS.yaml', 'r', encoding=\"utf-8\") as f:\n",
    "    params_FS = yaml.load(f, Loader=yaml.FullLoader)\n",
    "\n",
    "#receptor kinetics parameters\n",
    "with open('utils/receptor_kinetics.yaml', 'r', encoding=\"utf-8\") as f:\n",
    "    params_receptor_kinetics = yaml.load(f, Loader=yaml.FullLoader)\n",
    "\n",
    "#synaptic weights parameters\n",
    "with open('utils/synaptic_weights.yaml', 'r', encoding=\"utf-8\") as f:\n",
    "    params_synaptic_weights = yaml.load(f, Loader=yaml.FullLoader)\n",
    "\n",
    "#external input parameters\n",
    "with open('utils/external_input.yaml', 'r', encoding=\"utf-8\") as f:\n",
    "    params_external_input = yaml.load(f, Loader=yaml.FullLoader)\n",
    "\n",
    "#stimuli input parameters\n",
    "with open('utils/stimuli_input.yaml', 'r', encoding=\"utf-8\") as f:\n",
    "    params_stimuli_input = yaml.load(f, Loader=yaml.FullLoader)"
   ]
  },
  {
   "cell_type": "code",
   "execution_count": null,
   "metadata": {},
   "outputs": [],
   "source": [
    "#simulation time; always 5 seconds, for all experiments\n",
    "seconds = 5\n",
    "\n",
    "t_min = 0\n",
    "t_max = int(seconds*1000) #in ms -> 1(s) of simulation\n",
    "delta_T = 0.1 #0.1 ms is integration step\n",
    "sim_steps = int(seconds*1000/delta_T)\n",
    "\n",
    "T = np.linspace(t_min, t_max, sim_steps)"
   ]
  },
  {
   "cell_type": "markdown",
   "metadata": {},
   "source": [
    "# 🧪 Experiments"
   ]
  },
  {
   "cell_type": "markdown",
   "metadata": {},
   "source": [
    "## 1️⃣ Random Background Input Without Any Attractor"
   ]
  },
  {
   "cell_type": "markdown",
   "metadata": {},
   "source": [
    "### 🏋️ Synaptic Weights\n",
    "\n",
    "Definition of synaptic weights."
   ]
  },
  {
   "cell_type": "code",
   "execution_count": null,
   "metadata": {},
   "outputs": [],
   "source": [
    "#360 RS and 90 FS\n",
    "Ne = 360\n",
    "Ni = 90\n",
    "\n",
    "weights = np.array(np.zeros((Ne + Ni, Ne + Ni))) #matrix (Ne + Ni) x (Ne + Ni) (i, j: i -> j), thus sum by column for input of j\n",
    "\n",
    "# e -> e\n",
    "for i in range(Ne):\n",
    "    for j in range(Ne):\n",
    "        angle_i = i / Ne * 360\n",
    "        angle_j = j / Ne * 360\n",
    "        weights[i, j] = params_synaptic_weights['j_ee'] * np.exp(-(min(max(angle_i, angle_j) - min(angle_i, angle_j), 360 - (max(angle_i, angle_j) - min(angle_i, angle_j))))**2/params_synaptic_weights['sigma']**2)\n",
    "\n",
    "# e -> i\n",
    "for i in range(Ne):\n",
    "    for j in range(Ni):\n",
    "        angle_i = i / Ne * 360\n",
    "        angle_j = j / Ni * 360\n",
    "        weights[i, Ne + j] = params_synaptic_weights['j_ei']\n",
    "\n",
    "# i -> e\n",
    "for i in range(Ni):\n",
    "    for j in range(Ne):\n",
    "        angle_i = i / Ni * 360\n",
    "        angle_j = j / Ne * 360\n",
    "        weights[Ne + i, j] = params_synaptic_weights['j_ie']\n",
    "        \n",
    "# i -> i\n",
    "for i in range(Ni):\n",
    "    for j in range(Ni):\n",
    "        angle_i = i / Ni * 360\n",
    "        angle_j = j / Ni * 360\n",
    "        weights[Ne + i, Ne + j] = params_synaptic_weights['j_ii']"
   ]
  },
  {
   "cell_type": "markdown",
   "metadata": {},
   "source": [
    "### 🚝 External Cortical Input & 🎯 Stimulus Representation"
   ]
  },
  {
   "cell_type": "code",
   "execution_count": null,
   "metadata": {},
   "outputs": [],
   "source": [
    "v = np.array(np.zeros((len(T), Ne + Ni)))\n",
    "v[:, :Ne] = params_external_input['v_e']\n",
    "v[:, Ne:] = params_external_input['v_i']\n",
    "\n",
    "eta = params_stimuli_input[\"eta\"]\n",
    "A = params_stimuli_input[\"A\"]\n",
    "\n",
    "t_stim_start = 1\n",
    "t_stim_end = 1.25\n",
    "delay_time = 3.75"
   ]
  },
  {
   "cell_type": "markdown",
   "metadata": {},
   "source": [
    "### 🥳 Serotonin Weights\n",
    "\n",
    "Define the set of parameter $\\mu$ values."
   ]
  },
  {
   "cell_type": "code",
   "execution_count": null,
   "metadata": {},
   "outputs": [],
   "source": [
    "mus = [0.97, 0.98, 0.99, 1, 1.01, 1.02, 1.03]"
   ]
  },
  {
   "cell_type": "markdown",
   "metadata": {},
   "source": [
    "### 🔩 Settings"
   ]
  },
  {
   "cell_type": "code",
   "execution_count": null,
   "metadata": {},
   "outputs": [],
   "source": [
    "start_state = np.column_stack((np.append(params_RS[\"v\"]*np.ones(Ne), params_FS[\"v\"]*np.ones(Ni)), np.append(params_RS[\"u\"]*np.ones(Ne), params_FS[\"u\"]*np.ones(Ni)))) #matrix (Ne + Ni) x 2 - (v, u) for each neuron\n",
    "\n",
    "params_network = {\"a\": np.append(params_RS[\"a\"]*np.ones(Ne), params_FS[\"a\"]*np.ones(Ni)), \n",
    "          \"b\": np.append(params_RS[\"b\"]*np.ones(Ne), params_FS[\"b\"]*np.ones(Ni)), \n",
    "          \"c\": np.append(params_RS[\"c\"]*np.ones(Ne), params_FS[\"c\"]*np.ones(Ni)), \n",
    "          \"d\": np.append(params_RS[\"d\"]*np.ones(Ne), params_FS[\"d\"]*np.ones(Ni)), \n",
    "          \"C\": np.append(params_RS[\"C\"]*np.ones(Ne), params_FS[\"C\"]*np.ones(Ni)), \n",
    "          \"k\": np.append(params_RS[\"k\"]*np.ones(Ne), params_FS[\"k\"]*np.ones(Ni)),\n",
    "          \"v_peak\": np.append(params_RS[\"v_peak\"]*np.ones(Ne), params_FS[\"v_peak\"]*np.ones(Ni)), \n",
    "          \"v_r\": np.append(params_RS[\"v_r\"]*np.ones(Ne), params_FS[\"v_r\"]*np.ones(Ni)), \n",
    "          \"v_t\": np.append(params_RS[\"v_t\"]*np.ones(Ne), params_FS[\"v_t\"]*np.ones(Ni)),\n",
    "          \"tau_ampa\": params_receptor_kinetics[\"tau_ampa\"]*np.ones((Ne + Ni)),\n",
    "          \"tau_nmda\": params_receptor_kinetics[\"tau_nmda\"]*np.ones((Ne + Ni)),\n",
    "          \"tau_gabaa\": params_receptor_kinetics[\"tau_gabaa\"]*np.ones((Ne + Ni)),\n",
    "          \"tau_gabab\": params_receptor_kinetics[\"tau_gabab\"]*np.ones((Ne + Ni)),\n",
    "          \"g_ampa\": params_receptor_kinetics[\"g_ampa\"]*np.ones((Ne + Ni)),\n",
    "          \"g_nmda\": params_receptor_kinetics[\"g_nmda\"]*np.ones((Ne + Ni)),\n",
    "          \"g_gabaa\": params_receptor_kinetics[\"g_gabaa\"]*np.ones((Ne + Ni)),\n",
    "          \"g_gabab\": params_receptor_kinetics[\"g_gabab\"]*np.ones((Ne + Ni)),\n",
    "          \"g_e_external\": params_external_input[\"g_e_external\"]*np.ones((Ne + Ni)),\n",
    "          \"g_i_external\": params_external_input[\"g_i_external\"]*np.ones((Ne + Ni))\n",
    "}"
   ]
  },
  {
   "cell_type": "markdown",
   "metadata": {},
   "source": [
    "### 🏃 Run\n",
    "\n",
    "The total completion of the simulation will take approximately 2 hours."
   ]
  },
  {
   "cell_type": "code",
   "execution_count": null,
   "metadata": {},
   "outputs": [],
   "source": [
    "sim_num = 30 #30 - default"
   ]
  },
  {
   "cell_type": "code",
   "execution_count": null,
   "metadata": {},
   "outputs": [],
   "source": [
    "np.random.seed(42) #for reproducibility\n",
    "\n",
    "mu_exc_firing_rates = {}\n",
    "mu_inh_firing_rates = {}\n",
    "mu_prediction_errors = {}\n",
    "mu_attractor_state_terminations = {}\n",
    "\n",
    "for mu in mus:\n",
    "    exc_firing_rates = []\n",
    "    inh_firing_rates = []\n",
    "    prediction_errors = []\n",
    "    attractor_state_terminations = []\n",
    "\n",
    "    #prepare serotonin weights\n",
    "    serotonin_weights = np.ones(Ne + Ni)\n",
    "    serotonin_weights[:Ne] = mu*serotonin_weights[:Ne] \n",
    "\n",
    "    for _ in range(sim_num):\n",
    "\n",
    "        #random selection of stimuli orientation\n",
    "        stimuli_orientation = np.random.choice(np.arange(360))\n",
    "\n",
    "        #present stimuli to the network\n",
    "        for i in range(Ne):\n",
    "            angle_i = i / Ne * 360\n",
    "            v[int(t_stim_start*len(T)/seconds):int(t_stim_end*len(T)/seconds), i] = params_external_input['v_e'] * (1 + A * np.exp(eta * (np.cos(np.deg2rad(angle_i) - np.deg2rad(stimuli_orientation)) - 1)))\n",
    "        spike_trains = generate_spike_train(Ne, Ni, v, T, delta_T)\n",
    "\n",
    "        #simulation itself\n",
    "        _, firings, _, _, _, _, _ = network_simulation_run(Ne, Ni, T, delta_T, start_state, weights, spike_trains, serotonin_weights, params_network)\n",
    "    \n",
    "        #observe firing rates only for the delay time (after stimuli presentation)\n",
    "        observed_firing_rates = np.sum(firings[int(t_stim_end * 1000 / delta_T):], axis = 0) / delay_time\n",
    "\n",
    "        #calculate predicted angle and error for prediction\n",
    "        predicted_angle = np.dot(observed_firing_rates[:Ne] * delay_time, np.arange(Ne).T)/np.sum(observed_firing_rates[:Ne] * delay_time)\n",
    "        prediction_errors.append(stimuli_orientation - predicted_angle)\n",
    "\n",
    "        #excitatory firing rate calculation for 15 degrees window around stimuli\n",
    "        exc_start_idx = (stimuli_orientation - 15) % Ne\n",
    "        exc_end_idx = (stimuli_orientation + 15) % Ne\n",
    "        if exc_start_idx <= exc_end_idx:\n",
    "            exc_firing_rates += list(observed_firing_rates[exc_start_idx:exc_end_idx + 1])\n",
    "        else:\n",
    "            exc_firing_rates += list(np.concatenate((observed_firing_rates[exc_start_idx:], observed_firing_rates[:exc_end_idx + 1])))\n",
    "\n",
    "        #inhibitory firing rate\n",
    "        inh_firing_rates += list(observed_firing_rates[Ne:])\n",
    "\n",
    "        #termination of attractor state\n",
    "        attractor_state_terminations.append(calculate_instantaneous_firing_rate(firings[int(t_stim_end * 1000 / delta_T):, :360], window_size = 5000))\n",
    "        \n",
    "    mu_exc_firing_rates[mu] = exc_firing_rates\n",
    "    mu_inh_firing_rates[mu] = inh_firing_rates\n",
    "    mu_prediction_errors[mu] = prediction_errors\n",
    "    mu_attractor_state_terminations[mu] = attractor_state_terminations"
   ]
  },
  {
   "cell_type": "markdown",
   "metadata": {},
   "source": [
    "### 📈 Metrics"
   ]
  },
  {
   "cell_type": "markdown",
   "metadata": {},
   "source": [
    "Mean firing rates for inhibitory neurons and excitatory ones which are around stimuli."
   ]
  },
  {
   "cell_type": "code",
   "execution_count": null,
   "metadata": {},
   "outputs": [],
   "source": [
    "for mu in mus:\n",
    "    print(f\"Mean value for excitatory firing rate for mu = {mu} is: {np.mean(mu_exc_firing_rates[mu]):.02f} (Hz).\")\n",
    "    print(f\"Mean value for inhibitory firing rate for mu = {mu} is: {np.mean(mu_inh_firing_rates[mu]):.02f} (Hz).\")\n",
    "    print()"
   ]
  },
  {
   "cell_type": "markdown",
   "metadata": {},
   "source": [
    "To reproduce Figure 5.8 (part 1)."
   ]
  },
  {
   "cell_type": "code",
   "execution_count": null,
   "metadata": {},
   "outputs": [],
   "source": [
    "# @markdown Make sure you execute this cell to observe the plot\n",
    "\n",
    "data = []\n",
    "for mu in mus[:4]:\n",
    "    trace = go.Box(y=np.abs(mu_exc_firing_rates[mu]), name=f\"Excitatory Firing Rates for mu = {mu}\")\n",
    "    data.append(trace)\n",
    "\n",
    "layout = go.Layout(\n",
    "    title='Attractor State Activity: Excitatory Neurons',\n",
    "    yaxis=dict(title='Firing Rate (in Hz)')\n",
    ")\n",
    "fig = go.Figure(data=data, layout=layout)\n",
    "fig.update_layout(height = 600, showlegend = False)\n",
    "fig.show()"
   ]
  },
  {
   "cell_type": "markdown",
   "metadata": {},
   "source": [
    "To reproduce Figure 5.8 (part 2)."
   ]
  },
  {
   "cell_type": "code",
   "execution_count": null,
   "metadata": {},
   "outputs": [],
   "source": [
    "# @markdown Make sure you execute this cell to observe the plot\n",
    "\n",
    "data = []\n",
    "for mu in mus[:4]:\n",
    "    trace = go.Box(y=np.abs(mu_inh_firing_rates[mu]), name=f\"Inhibitory Firing Rates for mu = {mu}\")\n",
    "    data.append(trace)\n",
    "\n",
    "layout = go.Layout(\n",
    "    title='Attractor State Activity: Inhibitory Neurons',\n",
    "    yaxis=dict(title='Firing Rate (in Hz)')\n",
    ")\n",
    "fig = go.Figure(data=data, layout=layout)\n",
    "fig.update_layout(height = 600, showlegend = False)\n",
    "fig.show()"
   ]
  },
  {
   "cell_type": "markdown",
   "metadata": {
    "execution": {
     "iopub.execute_input": "2024-04-28T08:13:51.294749Z",
     "iopub.status.busy": "2024-04-28T08:13:51.293755Z",
     "iopub.status.idle": "2024-04-28T08:13:51.417519Z",
     "shell.execute_reply": "2024-04-28T08:13:51.404882Z",
     "shell.execute_reply.started": "2024-04-28T08:13:51.294627Z"
    }
   },
   "source": [
    "To reproduce Figure 5.11 (part 1)."
   ]
  },
  {
   "cell_type": "code",
   "execution_count": null,
   "metadata": {},
   "outputs": [],
   "source": [
    "# @markdown Make sure you execute this cell to observe the plot\n",
    "\n",
    "data = []\n",
    "for mu in mus[3:]:\n",
    "    trace = go.Box(y=np.abs(mu_inh_firing_rates[mu]), name=f\"Inhibitory Firing Rates for mu = {mu}\")\n",
    "    data.append(trace)\n",
    "\n",
    "layout = go.Layout(\n",
    "    title='Attractor State Activity',\n",
    "    yaxis=dict(title='Firing Rate (in Hz)')\n",
    ")\n",
    "fig = go.Figure(data=data, layout=layout)\n",
    "fig.update_layout(height = 600, showlegend = False)\n",
    "fig.show()"
   ]
  },
  {
   "cell_type": "markdown",
   "metadata": {},
   "source": [
    "To reproduce Figure 5.11 (part 2)."
   ]
  },
  {
   "cell_type": "code",
   "execution_count": null,
   "metadata": {},
   "outputs": [],
   "source": [
    "# @markdown Make sure you execute this cell to observe the plot\n",
    "\n",
    "data = []\n",
    "for mu in mus[3:]:\n",
    "    trace = go.Box(y=np.abs(mu_exc_firing_rates[mu]), name=f\"Excitatory Firing Rates for mu = {mu}\")\n",
    "    data.append(trace)\n",
    "\n",
    "layout = go.Layout(\n",
    "    title='Attractor State Activity',\n",
    "    yaxis=dict(title='Firing Rate (in Hz)')\n",
    ")\n",
    "fig = go.Figure(data=data, layout=layout)\n",
    "fig.update_layout(height = 600, showlegend = False)\n",
    "fig.show()"
   ]
  },
  {
   "cell_type": "markdown",
   "metadata": {},
   "source": [
    "Welch's test for equality of mean firing rates."
   ]
  },
  {
   "cell_type": "code",
   "execution_count": null,
   "metadata": {},
   "outputs": [],
   "source": [
    "print(\"Excitatory firing rates\")\n",
    "for mu in mus:\n",
    "    if mu != 1:\n",
    "        t_statistic, p_value = stats.ttest_ind(mu_exc_firing_rates[mu], mu_exc_firing_rates[1], equal_var=False)\n",
    "        print(f\"For mu = {mu}, p_value = {p_value:.04f}\")   \n",
    "        print()\n",
    "print(\"Inhibitory firing rates\")\n",
    "for mu in mus:\n",
    "    if mu != 1:\n",
    "        t_statistic, p_value = stats.ttest_ind(mu_inh_firing_rates[mu], mu_inh_firing_rates[1], equal_var=False)\n",
    "        print(f\"For mu = {mu}, p_value = {p_value:.04f}\")   \n",
    "        print()"
   ]
  },
  {
   "cell_type": "markdown",
   "metadata": {},
   "source": [
    "The end time of the attractor state. To reproduce Figure 5.9."
   ]
  },
  {
   "cell_type": "code",
   "execution_count": null,
   "metadata": {
    "scrolled": true
   },
   "outputs": [],
   "source": [
    "# @markdown Make sure you execute this cell to observe the plot\n",
    "\n",
    "data = []\n",
    "for mu in mus[:4]:\n",
    "    trace = go.Box(y=np.abs(mu_attractor_state_terminations[mu]), name=f\"mu = {mu}\")\n",
    "    data.append(trace)\n",
    "\n",
    "layout = go.Layout(\n",
    "    title='Attractor State Duration',\n",
    "    yaxis=dict(title='Time (in s)')\n",
    ")\n",
    "fig = go.Figure(data=data, layout=layout)\n",
    "fig.update_layout(height = 600, showlegend = False)\n",
    "fig.show()"
   ]
  },
  {
   "cell_type": "markdown",
   "metadata": {},
   "source": [
    "We didn't include this plot in the thesis as it is visually non-infromative but mentioned in the text that for $\\mu = 1$ and for $\\mu = 1.01$ all simulations were successful while for $\\mu = 1.02$ and $\\mu = 1.03$ network exhibits overstimulation right away."
   ]
  },
  {
   "cell_type": "code",
   "execution_count": null,
   "metadata": {},
   "outputs": [],
   "source": [
    "# @markdown Make sure you execute this cell to observe the plot\n",
    "\n",
    "data = []\n",
    "for mu in mus[3:]:\n",
    "    trace = go.Box(y=np.abs(mu_attractor_state_terminations[mu]), name=f\"Attractor State Duration for mu = {mu}\")\n",
    "    data.append(trace)\n",
    "\n",
    "layout = go.Layout(\n",
    "    title='Attractor State Termination',\n",
    "    yaxis=dict(title='Time (in s)')\n",
    ")\n",
    "fig = go.Figure(data=data, layout=layout)\n",
    "fig.update_layout(height = 600, showlegend = False)\n",
    "fig.show()"
   ]
  },
  {
   "cell_type": "markdown",
   "metadata": {},
   "source": [
    "Prediction error assessment. To reproduce Figure 5.7."
   ]
  },
  {
   "cell_type": "code",
   "execution_count": null,
   "metadata": {
    "scrolled": true
   },
   "outputs": [],
   "source": [
    "# @markdown Make sure you execute this cell to observe the plot\n",
    "\n",
    "data = []\n",
    "for mu in mus:\n",
    "    trace = go.Box(y=np.minimum(360 - np.abs(mu_prediction_errors[mu]), np.abs(mu_prediction_errors[mu])) , name=f\"Prediction Error for mu = {mu}\")\n",
    "    data.append(trace)\n",
    "\n",
    "layout = go.Layout(\n",
    "    title='Prediction Error',\n",
    "    yaxis=dict(title='Error (in degrees)')\n",
    ")\n",
    "fig = go.Figure(data=data, layout=layout)\n",
    "fig.update_layout(height = 600, showlegend = False)\n",
    "fig.show()"
   ]
  },
  {
   "cell_type": "markdown",
   "metadata": {},
   "source": [
    "Welch's t-test for quality of mean prediction errors."
   ]
  },
  {
   "cell_type": "code",
   "execution_count": null,
   "metadata": {},
   "outputs": [],
   "source": [
    "for mu in mus:\n",
    "    if mu != 1:\n",
    "        t_statistic, p_value = stats.ttest_ind(np.minimum(360 - np.abs(mu_prediction_errors[mu]), np.abs(mu_prediction_errors[mu])), np.minimum(360 - np.abs(mu_prediction_errors[1]), np.abs(mu_prediction_errors[1])), equal_var=False)\n",
    "        print(f\"For mu = {mu}, p_value = {p_value:.04f}\")   \n",
    "        print()"
   ]
  },
  {
   "cell_type": "markdown",
   "metadata": {},
   "source": [
    "### 👁️ Visualizations for Particular Run"
   ]
  },
  {
   "cell_type": "markdown",
   "metadata": {
    "execution": {
     "iopub.execute_input": "2024-04-27T08:09:38.998297Z",
     "iopub.status.busy": "2024-04-27T08:09:38.989521Z",
     "iopub.status.idle": "2024-04-27T08:09:39.053937Z",
     "shell.execute_reply": "2024-04-27T08:09:39.049687Z",
     "shell.execute_reply.started": "2024-04-27T08:09:38.998199Z"
    }
   },
   "source": [
    "Increased level of serotonin, $\\mu = 0.97$."
   ]
  },
  {
   "cell_type": "code",
   "execution_count": null,
   "metadata": {},
   "outputs": [],
   "source": [
    "np.random.seed(42) #for reproducibility\n",
    "\n",
    "#random selection of stimuli orientation\n",
    "stimuli_orientation = 100\n",
    "serotonin_weights = np.ones(Ne + Ni)\n",
    "serotonin_weights[:Ne] = 0.97*serotonin_weights[:Ne] \n",
    "\n",
    "#present stimuli to the network\n",
    "for i in range(Ne):\n",
    "    angle_i = i / Ne * 360\n",
    "    v[int(t_stim_start*len(T)/seconds):int(t_stim_end*len(T)/seconds), i] = params_external_input['v_e'] * (1 + A * np.exp(eta * (np.cos(np.deg2rad(angle_i) - np.deg2rad(stimuli_orientation)) - 1)))\n",
    "spike_trains = generate_spike_train(Ne, Ni, v, T, delta_T)\n",
    "\n",
    "#simulation itself\n",
    "states, firings, synaptic_input, synaptic_inputs, background_input, conductances, background_conductance = network_simulation_run(Ne, Ni, T, delta_T, start_state, weights, spike_trains, serotonin_weights, params_network)\n",
    "\n",
    "termination_time = calculate_instantaneous_firing_rate(firings[int(t_stim_end * 1000 / delta_T):, :360], window_size = 5000)\n",
    "print(f\"Termination time for attractor state is: {termination_time:.02f}\")"
   ]
  },
  {
   "cell_type": "markdown",
   "metadata": {},
   "source": [
    "To reproduce Figure 5.10."
   ]
  },
  {
   "cell_type": "code",
   "execution_count": null,
   "metadata": {
    "scrolled": true
   },
   "outputs": [],
   "source": [
    "# @markdown Make sure you execute this cell to observe the plot\n",
    "\n",
    "fig = exc_inh_firing_rates(firings[:, :360], firings[:, 360:], [t_stim_start], [t_stim_end], delta_T)\n",
    "fig.update_layout(height = 600)\n",
    "fig.add_vline(x=termination_time + 1.25,\n",
    "              line=dict(color='black', width=3),\n",
    "              opacity = 0.7\n",
    "              )\n",
    "fig.show()"
   ]
  },
  {
   "cell_type": "markdown",
   "metadata": {},
   "source": [
    "Decreased level of serotonin, $\\mu = 1.01$."
   ]
  },
  {
   "cell_type": "code",
   "execution_count": null,
   "metadata": {},
   "outputs": [],
   "source": [
    "np.random.seed(42) #for reproducibility\n",
    "\n",
    "#random selection of stimuli orientation\n",
    "stimuli_orientation = 100\n",
    "serotonin_weights = np.ones(Ne + Ni)\n",
    "serotonin_weights[:Ne] = 1.01*serotonin_weights[:Ne] \n",
    "\n",
    "#present stimuli to the network\n",
    "for i in range(Ne):\n",
    "    angle_i = i / Ne * 360\n",
    "    v[int(t_stim_start*len(T)/seconds):int(t_stim_end*len(T)/seconds), i] = params_external_input['v_e'] * (1 + A * np.exp(eta * (np.cos(np.deg2rad(angle_i) - np.deg2rad(stimuli_orientation)) - 1)))\n",
    "spike_trains = generate_spike_train(Ne, Ni, v, T, delta_T)\n",
    "\n",
    "#simulation itself\n",
    "states, firings, synaptic_input, synaptic_inputs, background_input, conductances, background_conductance = network_simulation_run(Ne, Ni, T, delta_T, start_state, weights, spike_trains, serotonin_weights, params_network)\n",
    "\n",
    "termination_time = calculate_instantaneous_firing_rate(firings[int(t_stim_end * 1000 / delta_T):, :360], window_size = 5000)\n",
    "print(f\"Termination time for attractor state is: {termination_time:.02f}\")"
   ]
  },
  {
   "cell_type": "markdown",
   "metadata": {},
   "source": [
    "To reproduce Figure 5.12."
   ]
  },
  {
   "cell_type": "code",
   "execution_count": null,
   "metadata": {},
   "outputs": [],
   "source": [
    "# @markdown Make sure you execute this cell to observe the plot\n",
    "\n",
    "fig = exc_inh_firing_rates(firings[:, :360], firings[:, 360:], [t_stim_start], [t_stim_end], delta_T)\n",
    "fig.update_layout(height = 600)\n",
    "fig.add_vline(x=termination_time + 1.25,\n",
    "              line=dict(color='black', width=3),\n",
    "              opacity = 0.7\n",
    "              )\n",
    "fig.show()"
   ]
  },
  {
   "cell_type": "markdown",
   "metadata": {
    "execution": {
     "iopub.status.busy": "2024-04-28T08:22:03.655380Z",
     "iopub.status.idle": "2024-04-28T08:22:03.662126Z",
     "shell.execute_reply": "2024-04-28T08:22:03.659934Z",
     "shell.execute_reply.started": "2024-04-28T08:22:03.659906Z"
    }
   },
   "source": [
    "Decreased level of serotonin, $\\mu = 1.02$."
   ]
  },
  {
   "cell_type": "code",
   "execution_count": null,
   "metadata": {},
   "outputs": [],
   "source": [
    "np.random.seed(42) #for reproducibility\n",
    "\n",
    "#random selection of stimuli orientation\n",
    "stimuli_orientation = 100\n",
    "serotonin_weights = np.ones(Ne + Ni)\n",
    "serotonin_weights[:Ne] = 1.01*serotonin_weights[:Ne] \n",
    "\n",
    "#present stimuli to the network\n",
    "for i in range(Ne):\n",
    "    angle_i = i / Ne * 360\n",
    "    v[int(t_stim_start*len(T)/seconds):int(t_stim_end*len(T)/seconds), i] = params_external_input['v_e'] * (1 + A * np.exp(eta * (np.cos(np.deg2rad(angle_i) - np.deg2rad(stimuli_orientation)) - 1)))\n",
    "spike_trains = generate_spike_train(Ne, Ni, v, T, delta_T)\n",
    "\n",
    "#simulation itself\n",
    "states, firings, synaptic_input, synaptic_inputs, background_input, conductances, background_conductance = network_simulation_run(Ne, Ni, T, delta_T, start_state, weights, spike_trains, serotonin_weights, params_network)\n",
    "\n",
    "termination_time = calculate_instantaneous_firing_rate(firings[int(t_stim_end * 1000 / delta_T):, :360], window_size = 5000)\n",
    "print(f\"Termination time for attractor state is: {termination_time:.02f}\")"
   ]
  },
  {
   "cell_type": "markdown",
   "metadata": {},
   "source": [
    "To reproduce Figure 5.13."
   ]
  },
  {
   "cell_type": "code",
   "execution_count": null,
   "metadata": {},
   "outputs": [],
   "source": [
    "# @markdown Make sure you execute this cell to observe the plot\n",
    "\n",
    "fig = exc_inh_firing_rates(firings[:, :360], firings[:, 360:], [t_stim_start], [t_stim_end], delta_T)\n",
    "fig.update_layout(height = 600)\n",
    "fig.add_vline(x=termination_time + 1.25,\n",
    "              line=dict(color='black', width=3),\n",
    "              opacity = 0.7\n",
    "              )\n",
    "fig.show()"
   ]
  },
  {
   "cell_type": "markdown",
   "metadata": {},
   "source": [
    "### ⚡️ Currents Comparison"
   ]
  },
  {
   "cell_type": "code",
   "execution_count": null,
   "metadata": {},
   "outputs": [],
   "source": [
    "synpaptic_inputs = {}\n",
    "nmda_synaptic_inputs = {}\n",
    "for mu in mus:\n",
    "    np.random.seed(42) #for reproducibility; the only source of randomness in the model\n",
    "\n",
    "    #random selection of stimuli orientation\n",
    "    stimuli_orientation = 100\n",
    "    serotonin_weights = np.ones(Ne + Ni)\n",
    "    serotonin_weights[:Ne] = mu*serotonin_weights[:Ne] \n",
    "\n",
    "    #present stimuli to the network\n",
    "    for i in range(Ne):\n",
    "        angle_i = i / Ne * 360\n",
    "        v[int(t_stim_start*len(T)/seconds):int(t_stim_end*len(T)/seconds), i] = params_external_input['v_e'] * (1 + A * np.exp(eta * (np.cos(np.deg2rad(angle_i) - np.deg2rad(stimuli_orientation)) - 1)))\n",
    "    spike_trains = generate_spike_train(Ne, Ni, v, T, delta_T)\n",
    "\n",
    "    #simulation itself\n",
    "    states, firings, synaptic_input, synaptic_inputs, background_input, conductances, background_conductance = network_simulation_run(Ne, Ni, T, delta_T, start_state, weights, spike_trains, serotonin_weights, params_network)\n",
    "    synpaptic_inputs[mu] = np.mean(synaptic_input[int(t_stim_end * 1000 / delta_T):, 100])\n",
    "    nmda_synaptic_inputs[mu] = np.mean(synaptic_inputs[int(t_stim_end * 1000 / delta_T):, 100, 1])"
   ]
  },
  {
   "cell_type": "code",
   "execution_count": null,
   "metadata": {},
   "outputs": [],
   "source": [
    "for mu in mus:\n",
    "    if mu != 1:\n",
    "        print(f\"For mu = {mu}, synaptic input is {synpaptic_inputs[mu]/synpaptic_inputs[1] * 100:.02f}% of normal condition synaptic input\")\n",
    "        print(f\"For mu = {mu}, NMDA synaptic input is {nmda_synaptic_inputs[mu]/nmda_synaptic_inputs[1] * 100:.02f}% of normal condition NMDA synaptic input\")\n",
    "        print()"
   ]
  }
 ],
 "metadata": {
  "kernelspec": {
   "display_name": "Python 3 (ipykernel)",
   "language": "python",
   "name": "python3"
  },
  "language_info": {
   "codemirror_mode": {
    "name": "ipython",
    "version": 3
   },
   "file_extension": ".py",
   "mimetype": "text/x-python",
   "name": "python",
   "nbconvert_exporter": "python",
   "pygments_lexer": "ipython3",
   "version": "3.11.5"
  }
 },
 "nbformat": 4,
 "nbformat_minor": 4
}
