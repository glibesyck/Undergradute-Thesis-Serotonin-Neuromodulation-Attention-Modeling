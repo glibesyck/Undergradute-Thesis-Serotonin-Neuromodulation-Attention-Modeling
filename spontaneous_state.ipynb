{
 "cells": [
  {
   "cell_type": "markdown",
   "metadata": {},
   "source": [
    "# 🎉 Spontaneous State Simulation"
   ]
  },
  {
   "cell_type": "markdown",
   "metadata": {},
   "source": [
    "---\n",
    "## 🔍 Notebook objectives\n",
    "\n",
    "This notebook contains simulation of spontaneous state in the ring attractor network which contains 360 excitatory RS neurons and 90 inhibitory FS interneurons."
   ]
  },
  {
   "cell_type": "markdown",
   "metadata": {},
   "source": [
    "# 🎒 Setup"
   ]
  },
  {
   "cell_type": "markdown",
   "metadata": {},
   "source": [
    "## ⬇️ Imports"
   ]
  },
  {
   "cell_type": "code",
   "execution_count": null,
   "metadata": {},
   "outputs": [],
   "source": [
    "from utils.main_simulation import network_simulation_run\n",
    "from utils.poisson_spike_train_generation import generate_spike_train\n",
    "from utils.plots import *\n",
    "\n",
    "import numpy as np\n",
    "import yaml #reading env consts"
   ]
  },
  {
   "cell_type": "markdown",
   "metadata": {},
   "source": [
    "## 🛠️ Simulation Utils"
   ]
  },
  {
   "cell_type": "code",
   "execution_count": null,
   "metadata": {},
   "outputs": [],
   "source": [
    "#RS neuron parameters\n",
    "with open('utils/RS.yaml', 'r', encoding=\"utf-8\") as f:\n",
    "    params_RS = yaml.load(f, Loader=yaml.FullLoader)\n",
    "\n",
    "#FS neuron parameters\n",
    "with open('utils/FS.yaml', 'r', encoding=\"utf-8\") as f:\n",
    "    params_FS = yaml.load(f, Loader=yaml.FullLoader)\n",
    "\n",
    "#receptor kinetics parameters\n",
    "with open('utils/receptor_kinetics.yaml', 'r', encoding=\"utf-8\") as f:\n",
    "    params_receptor_kinetics = yaml.load(f, Loader=yaml.FullLoader)\n",
    "\n",
    "#synaptic weights parameters\n",
    "with open('utils/synaptic_weights.yaml', 'r', encoding=\"utf-8\") as f:\n",
    "    params_synaptic_weights = yaml.load(f, Loader=yaml.FullLoader)\n",
    "\n",
    "#external input parameters\n",
    "with open('utils/external_input.yaml', 'r', encoding=\"utf-8\") as f:\n",
    "    params_external_input = yaml.load(f, Loader=yaml.FullLoader)\n",
    "\n",
    "#stimuli input parameters\n",
    "with open('utils/stimuli_input.yaml', 'r', encoding=\"utf-8\") as f:\n",
    "    params_stimuli_input = yaml.load(f, Loader=yaml.FullLoader)"
   ]
  },
  {
   "cell_type": "code",
   "execution_count": null,
   "metadata": {},
   "outputs": [],
   "source": [
    "#simulation time; always 5 seconds, for all experiments\n",
    "seconds = 5\n",
    "\n",
    "t_min = 0\n",
    "t_max = int(seconds*1000) #in ms -> 1(s) of simulation\n",
    "delta_T = 0.1 #0.1 ms is integration step\n",
    "sim_steps = int(seconds*1000/delta_T)\n",
    "\n",
    "T = np.linspace(t_min, t_max, sim_steps)"
   ]
  },
  {
   "cell_type": "markdown",
   "metadata": {},
   "source": [
    "# 🧪 Experiment"
   ]
  },
  {
   "cell_type": "markdown",
   "metadata": {},
   "source": [
    "### 🏋️ Synaptic Weights\n",
    "\n",
    "Definition of synaptic weights."
   ]
  },
  {
   "cell_type": "code",
   "execution_count": null,
   "metadata": {},
   "outputs": [],
   "source": [
    "#360 RS and 90 FS\n",
    "Ne = 360\n",
    "Ni = 90\n",
    "\n",
    "weights = np.array(np.zeros((Ne + Ni, Ne + Ni))) #matrix (Ne + Ni) x (Ne + Ni) (i, j: i -> j), thus sum by column for input of j\n",
    "\n",
    "# e -> e\n",
    "for i in range(Ne):\n",
    "    for j in range(Ne):\n",
    "        angle_i = i / Ne * 360\n",
    "        angle_j = j / Ne * 360\n",
    "        weights[i, j] = params_synaptic_weights['j_ee'] * np.exp(-(min(max(angle_i, angle_j) - min(angle_i, angle_j), 360 - (max(angle_i, angle_j) - min(angle_i, angle_j))))**2/params_synaptic_weights['sigma']**2)\n",
    "\n",
    "# e -> i\n",
    "for i in range(Ne):\n",
    "    for j in range(Ni):\n",
    "        angle_i = i / Ne * 360\n",
    "        angle_j = j / Ni * 360\n",
    "        weights[i, Ne + j] = params_synaptic_weights['j_ei']\n",
    "\n",
    "# i -> e\n",
    "for i in range(Ni):\n",
    "    for j in range(Ne):\n",
    "        angle_i = i / Ni * 360\n",
    "        angle_j = j / Ne * 360\n",
    "        weights[Ne + i, j] = params_synaptic_weights['j_ie']\n",
    "        \n",
    "# i -> i\n",
    "for i in range(Ni):\n",
    "    for j in range(Ni):\n",
    "        angle_i = i / Ni * 360\n",
    "        angle_j = j / Ni * 360\n",
    "        weights[Ne + i, Ne + j] = params_synaptic_weights['j_ii']"
   ]
  },
  {
   "cell_type": "markdown",
   "metadata": {},
   "source": [
    "### 🚝 External Cortical Input & 🎯 Stimulus Representation\n",
    "\n",
    "Observe that we don't present any external stimuli in the case of spontaneous state activity, only background cortical input."
   ]
  },
  {
   "cell_type": "code",
   "execution_count": null,
   "metadata": {},
   "outputs": [],
   "source": [
    "v = np.array(np.zeros((len(T), Ne + Ni)))\n",
    "v[:, :Ne] = params_external_input['v_e']\n",
    "v[:, Ne:] = params_external_input['v_i']"
   ]
  },
  {
   "cell_type": "markdown",
   "metadata": {},
   "source": [
    "### 🥳 Serotonin Weights\n",
    "\n",
    "All of the serotonin weights are defined to be default."
   ]
  },
  {
   "cell_type": "code",
   "execution_count": null,
   "metadata": {},
   "outputs": [],
   "source": [
    "serotonin_weights = np.ones(Ne + Ni)"
   ]
  },
  {
   "cell_type": "markdown",
   "metadata": {},
   "source": [
    "### 🔩 Settings"
   ]
  },
  {
   "cell_type": "code",
   "execution_count": null,
   "metadata": {},
   "outputs": [],
   "source": [
    "start_state = np.column_stack((np.append(params_RS[\"v\"]*np.ones(Ne), params_FS[\"v\"]*np.ones(Ni)), np.append(params_RS[\"u\"]*np.ones(Ne), params_FS[\"u\"]*np.ones(Ni)))) #matrix (Ne + Ni) x 2 - (v, u) for each neuron\n",
    "\n",
    "params_network = {\"a\": np.append(params_RS[\"a\"]*np.ones(Ne), params_FS[\"a\"]*np.ones(Ni)), \n",
    "          \"b\": np.append(params_RS[\"b\"]*np.ones(Ne), params_FS[\"b\"]*np.ones(Ni)), \n",
    "          \"c\": np.append(params_RS[\"c\"]*np.ones(Ne), params_FS[\"c\"]*np.ones(Ni)), \n",
    "          \"d\": np.append(params_RS[\"d\"]*np.ones(Ne), params_FS[\"d\"]*np.ones(Ni)), \n",
    "          \"C\": np.append(params_RS[\"C\"]*np.ones(Ne), params_FS[\"C\"]*np.ones(Ni)), \n",
    "          \"k\": np.append(params_RS[\"k\"]*np.ones(Ne), params_FS[\"k\"]*np.ones(Ni)),\n",
    "          \"v_peak\": np.append(params_RS[\"v_peak\"]*np.ones(Ne), params_FS[\"v_peak\"]*np.ones(Ni)), \n",
    "          \"v_r\": np.append(params_RS[\"v_r\"]*np.ones(Ne), params_FS[\"v_r\"]*np.ones(Ni)), \n",
    "          \"v_t\": np.append(params_RS[\"v_t\"]*np.ones(Ne), params_FS[\"v_t\"]*np.ones(Ni)),\n",
    "          \"tau_ampa\": params_receptor_kinetics[\"tau_ampa\"]*np.ones((Ne + Ni)),\n",
    "          \"tau_nmda\": params_receptor_kinetics[\"tau_nmda\"]*np.ones((Ne + Ni)),\n",
    "          \"tau_gabaa\": params_receptor_kinetics[\"tau_gabaa\"]*np.ones((Ne + Ni)),\n",
    "          \"tau_gabab\": params_receptor_kinetics[\"tau_gabab\"]*np.ones((Ne + Ni)),\n",
    "          \"g_ampa\": params_receptor_kinetics[\"g_ampa\"]*np.ones((Ne + Ni)),\n",
    "          \"g_nmda\": params_receptor_kinetics[\"g_nmda\"]*np.ones((Ne + Ni)),\n",
    "          \"g_gabaa\": params_receptor_kinetics[\"g_gabaa\"]*np.ones((Ne + Ni)),\n",
    "          \"g_gabab\": params_receptor_kinetics[\"g_gabab\"]*np.ones((Ne + Ni)),\n",
    "          \"g_e_external\": params_external_input[\"g_e_external\"]*np.ones((Ne + Ni)),\n",
    "          \"g_i_external\": params_external_input[\"g_i_external\"]*np.ones((Ne + Ni))\n",
    "          }"
   ]
  },
  {
   "cell_type": "markdown",
   "metadata": {},
   "source": [
    "### 🏃 Run\n",
    "\n",
    "It might take about 15 minutes to complete (depending on the hardware you are using)."
   ]
  },
  {
   "cell_type": "code",
   "execution_count": null,
   "metadata": {},
   "outputs": [],
   "source": [
    "sim_num = 30 #30 - default"
   ]
  },
  {
   "cell_type": "code",
   "execution_count": null,
   "metadata": {},
   "outputs": [],
   "source": [
    "np.random.seed(42) #for reproducibility\n",
    "\n",
    "exc_firing_rates = []\n",
    "inh_firing_rates = []\n",
    "\n",
    "for _ in range(sim_num):\n",
    "    spike_trains = generate_spike_train(Ne, Ni, v, T, delta_T)\n",
    "    _, firings, _, _, _, _, _ = network_simulation_run(Ne, Ni, T, delta_T, start_state, weights, spike_trains, serotonin_weights, params_network)\n",
    "    observed_firing_rates = np.sum(firings, axis = 0) / seconds\n",
    "    exc_firing_rates += list(observed_firing_rates[:360])\n",
    "    inh_firing_rates += list(observed_firing_rates[360:])"
   ]
  },
  {
   "cell_type": "markdown",
   "metadata": {
    "execution": {
     "iopub.execute_input": "2024-04-28T07:40:00.786449Z",
     "iopub.status.busy": "2024-04-28T07:40:00.783817Z",
     "iopub.status.idle": "2024-04-28T07:40:00.794245Z",
     "shell.execute_reply": "2024-04-28T07:40:00.792583Z",
     "shell.execute_reply.started": "2024-04-28T07:40:00.786361Z"
    }
   },
   "source": [
    "### 👁️ Visualizations"
   ]
  },
  {
   "cell_type": "markdown",
   "metadata": {},
   "source": [
    "To reproduce Figure 5.1 from thesis."
   ]
  },
  {
   "cell_type": "code",
   "execution_count": null,
   "metadata": {},
   "outputs": [],
   "source": [
    "# @markdown Make sure you execute this cell to observe the plot\n",
    "\n",
    "trace1 = go.Box(y=exc_firing_rates, name='Excitatory firing rates')\n",
    "trace2 = go.Box(y=inh_firing_rates, name='Inhibitory firing rates')\n",
    "data = [trace1, trace2]\n",
    "\n",
    "layout = go.Layout(\n",
    "    title='Spontaneous State Activity',\n",
    "    yaxis=dict(title='Firing Rate (in Hz)')\n",
    ")\n",
    "fig = go.Figure(data=data, layout=layout)\n",
    "fig.update_layout(height = 600)\n",
    "fig.show()"
   ]
  },
  {
   "cell_type": "code",
   "execution_count": null,
   "metadata": {},
   "outputs": [],
   "source": [
    "print(f\"Mean value for excitatory firing rate is: {np.mean(exc_firing_rates):.02f} (Hz).\")\n",
    "print(f\"Mean value for inhibitory firing rate is: {np.mean(inh_firing_rates):.02f} (Hz).\")"
   ]
  },
  {
   "cell_type": "markdown",
   "metadata": {},
   "source": [
    "### 👁️ Visualizations for Particular Run"
   ]
  },
  {
   "cell_type": "code",
   "execution_count": null,
   "metadata": {},
   "outputs": [],
   "source": [
    "np.random.seed(42) #for reproducibility\n",
    "spike_trains = generate_spike_train(Ne, Ni, v, T, delta_T)\n",
    "_, firings, _, _, _, _, _ = network_simulation_run(Ne, Ni, T, delta_T, start_state, weights, spike_trains, serotonin_weights, params_network)"
   ]
  },
  {
   "cell_type": "markdown",
   "metadata": {},
   "source": [
    "To reproduce Figure 5.2 from thesis."
   ]
  },
  {
   "cell_type": "code",
   "execution_count": null,
   "metadata": {},
   "outputs": [],
   "source": [
    "# @markdown Make sure you execute this cell to observe the plot\n",
    "\n",
    "fig = exc_inh_firing_rates(firings[:, :360], firings[:, 360:], [], [], delta_T)\n",
    "fig.update_layout(height = 600)\n",
    "fig.show()"
   ]
  }
 ],
 "metadata": {
  "kernelspec": {
   "display_name": "Python 3 (ipykernel)",
   "language": "python",
   "name": "python3"
  },
  "language_info": {
   "codemirror_mode": {
    "name": "ipython",
    "version": 3
   },
   "file_extension": ".py",
   "mimetype": "text/x-python",
   "name": "python",
   "nbconvert_exporter": "python",
   "pygments_lexer": "ipython3",
   "version": "3.11.5"
  }
 },
 "nbformat": 4,
 "nbformat_minor": 4
}
